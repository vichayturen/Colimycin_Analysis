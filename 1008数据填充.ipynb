{
 "cells": [
  {
   "cell_type": "code",
   "execution_count": 4,
   "id": "initial_id",
   "metadata": {
    "collapsed": true,
    "ExecuteTime": {
     "end_time": "2024-10-12T07:29:25.271272400Z",
     "start_time": "2024-10-12T07:29:25.251272100Z"
    }
   },
   "outputs": [],
   "source": [
    "import pandas as pd"
   ]
  },
  {
   "cell_type": "code",
   "execution_count": 5,
   "outputs": [
    {
     "data": {
      "text/plain": "      编号      住院号  可利霉素时间        患者编号  分组   姓名           入院或入ICU时间  APACHEII  \\\n0      1  1765586    24.0  18691680.0   1  陈忠德 2022-12-18 00:00:00        36   \n1      2  1598484     7.0  19781643.0   1  万厚贤 2021-09-16 00:00:00        20   \n2      3  1825009     9.0  23366094.0   1  马益宏 2023-06-01 00:00:00        26   \n3      4  1594955    16.0  22841687.0   1   玉梅 2021-10-12 00:00:00        12   \n4      5  1493306     4.0  22362676.0   1  鲁爱英 2021-01-17 00:00:00        19   \n..   ...      ...     ...         ...  ..  ...                 ...       ...   \n195  196  1696039     NaN         NaN   0  刘丽萍 2022-06-30 22:57:00        12   \n196  197  1610735     NaN         NaN   0  丁建舟 2021-11-25 16:56:00        25   \n197  198  1505179     NaN         NaN   0  严安荣 2021-03-08 18:53:00        18   \n198  199  1496280     NaN         NaN   0  刘琼丽 2021-01-25 19:22:00        22   \n199  200  1608634     NaN         NaN   0  刘加明 2021-11-29 11:48:00        22   \n\n     SOFA     身高  ...  氨基糖苷类  糖肽类  恶唑烷酮类  甲硝唑  四环素  氯霉素  环酯肽类  粘菌素   可利霉素开始时间  \\\n0      10  165.0  ...    0.0  0.0    1.0  0.0  1.0  0.0   0.0  1.0 2022-12-19   \n1      11  173.0  ...    0.0  1.0    0.0  0.0  0.0  0.0   1.0  0.0 2021-10-16   \n2      10  175.0  ...    0.0  0.0    0.0  0.0  0.0  0.0   0.0  1.0 2023-06-05   \n3       2  159.0  ...    1.0  0.0    0.0  0.0  0.0  0.0   0.0  0.0 2021-10-28   \n4       7  158.0  ...    0.0  1.0    0.0  0.0  0.0  0.0   0.0  1.0 2021-03-05   \n..    ...    ...  ...    ...  ...    ...  ...  ...  ...   ...  ...        ...   \n195     1    NaN  ...    NaN  NaN    NaN  NaN  NaN  NaN   NaN  NaN        NaT   \n196     9    NaN  ...    NaN  NaN    NaN  NaN  NaN  NaN   NaN  NaN        NaT   \n197     2    NaN  ...    NaN  NaN    NaN  NaN  NaN  NaN   NaN  NaN        NaT   \n198     2    NaN  ...    NaN  NaN    NaN  NaN  NaN  NaN   NaN  NaN        NaT   \n199     6    NaN  ...    NaN  NaN    NaN  NaN  NaN  NaN   NaN  NaN        NaT   \n\n      结束可利霉素时间  \n0   2023-01-11  \n1   2021-10-22  \n2   2023-06-13  \n3   2021-11-12  \n4   2021-03-08  \n..         ...  \n195        NaT  \n196        NaT  \n197        NaT  \n198        NaT  \n199        NaT  \n\n[200 rows x 103 columns]",
      "text/html": "<div>\n<style scoped>\n    .dataframe tbody tr th:only-of-type {\n        vertical-align: middle;\n    }\n\n    .dataframe tbody tr th {\n        vertical-align: top;\n    }\n\n    .dataframe thead th {\n        text-align: right;\n    }\n</style>\n<table border=\"1\" class=\"dataframe\">\n  <thead>\n    <tr style=\"text-align: right;\">\n      <th></th>\n      <th>编号</th>\n      <th>住院号</th>\n      <th>可利霉素时间</th>\n      <th>患者编号</th>\n      <th>分组</th>\n      <th>姓名</th>\n      <th>入院或入ICU时间</th>\n      <th>APACHEII</th>\n      <th>SOFA</th>\n      <th>身高</th>\n      <th>...</th>\n      <th>氨基糖苷类</th>\n      <th>糖肽类</th>\n      <th>恶唑烷酮类</th>\n      <th>甲硝唑</th>\n      <th>四环素</th>\n      <th>氯霉素</th>\n      <th>环酯肽类</th>\n      <th>粘菌素</th>\n      <th>可利霉素开始时间</th>\n      <th>结束可利霉素时间</th>\n    </tr>\n  </thead>\n  <tbody>\n    <tr>\n      <th>0</th>\n      <td>1</td>\n      <td>1765586</td>\n      <td>24.0</td>\n      <td>18691680.0</td>\n      <td>1</td>\n      <td>陈忠德</td>\n      <td>2022-12-18 00:00:00</td>\n      <td>36</td>\n      <td>10</td>\n      <td>165.0</td>\n      <td>...</td>\n      <td>0.0</td>\n      <td>0.0</td>\n      <td>1.0</td>\n      <td>0.0</td>\n      <td>1.0</td>\n      <td>0.0</td>\n      <td>0.0</td>\n      <td>1.0</td>\n      <td>2022-12-19</td>\n      <td>2023-01-11</td>\n    </tr>\n    <tr>\n      <th>1</th>\n      <td>2</td>\n      <td>1598484</td>\n      <td>7.0</td>\n      <td>19781643.0</td>\n      <td>1</td>\n      <td>万厚贤</td>\n      <td>2021-09-16 00:00:00</td>\n      <td>20</td>\n      <td>11</td>\n      <td>173.0</td>\n      <td>...</td>\n      <td>0.0</td>\n      <td>1.0</td>\n      <td>0.0</td>\n      <td>0.0</td>\n      <td>0.0</td>\n      <td>0.0</td>\n      <td>1.0</td>\n      <td>0.0</td>\n      <td>2021-10-16</td>\n      <td>2021-10-22</td>\n    </tr>\n    <tr>\n      <th>2</th>\n      <td>3</td>\n      <td>1825009</td>\n      <td>9.0</td>\n      <td>23366094.0</td>\n      <td>1</td>\n      <td>马益宏</td>\n      <td>2023-06-01 00:00:00</td>\n      <td>26</td>\n      <td>10</td>\n      <td>175.0</td>\n      <td>...</td>\n      <td>0.0</td>\n      <td>0.0</td>\n      <td>0.0</td>\n      <td>0.0</td>\n      <td>0.0</td>\n      <td>0.0</td>\n      <td>0.0</td>\n      <td>1.0</td>\n      <td>2023-06-05</td>\n      <td>2023-06-13</td>\n    </tr>\n    <tr>\n      <th>3</th>\n      <td>4</td>\n      <td>1594955</td>\n      <td>16.0</td>\n      <td>22841687.0</td>\n      <td>1</td>\n      <td>玉梅</td>\n      <td>2021-10-12 00:00:00</td>\n      <td>12</td>\n      <td>2</td>\n      <td>159.0</td>\n      <td>...</td>\n      <td>1.0</td>\n      <td>0.0</td>\n      <td>0.0</td>\n      <td>0.0</td>\n      <td>0.0</td>\n      <td>0.0</td>\n      <td>0.0</td>\n      <td>0.0</td>\n      <td>2021-10-28</td>\n      <td>2021-11-12</td>\n    </tr>\n    <tr>\n      <th>4</th>\n      <td>5</td>\n      <td>1493306</td>\n      <td>4.0</td>\n      <td>22362676.0</td>\n      <td>1</td>\n      <td>鲁爱英</td>\n      <td>2021-01-17 00:00:00</td>\n      <td>19</td>\n      <td>7</td>\n      <td>158.0</td>\n      <td>...</td>\n      <td>0.0</td>\n      <td>1.0</td>\n      <td>0.0</td>\n      <td>0.0</td>\n      <td>0.0</td>\n      <td>0.0</td>\n      <td>0.0</td>\n      <td>1.0</td>\n      <td>2021-03-05</td>\n      <td>2021-03-08</td>\n    </tr>\n    <tr>\n      <th>...</th>\n      <td>...</td>\n      <td>...</td>\n      <td>...</td>\n      <td>...</td>\n      <td>...</td>\n      <td>...</td>\n      <td>...</td>\n      <td>...</td>\n      <td>...</td>\n      <td>...</td>\n      <td>...</td>\n      <td>...</td>\n      <td>...</td>\n      <td>...</td>\n      <td>...</td>\n      <td>...</td>\n      <td>...</td>\n      <td>...</td>\n      <td>...</td>\n      <td>...</td>\n      <td>...</td>\n    </tr>\n    <tr>\n      <th>195</th>\n      <td>196</td>\n      <td>1696039</td>\n      <td>NaN</td>\n      <td>NaN</td>\n      <td>0</td>\n      <td>刘丽萍</td>\n      <td>2022-06-30 22:57:00</td>\n      <td>12</td>\n      <td>1</td>\n      <td>NaN</td>\n      <td>...</td>\n      <td>NaN</td>\n      <td>NaN</td>\n      <td>NaN</td>\n      <td>NaN</td>\n      <td>NaN</td>\n      <td>NaN</td>\n      <td>NaN</td>\n      <td>NaN</td>\n      <td>NaT</td>\n      <td>NaT</td>\n    </tr>\n    <tr>\n      <th>196</th>\n      <td>197</td>\n      <td>1610735</td>\n      <td>NaN</td>\n      <td>NaN</td>\n      <td>0</td>\n      <td>丁建舟</td>\n      <td>2021-11-25 16:56:00</td>\n      <td>25</td>\n      <td>9</td>\n      <td>NaN</td>\n      <td>...</td>\n      <td>NaN</td>\n      <td>NaN</td>\n      <td>NaN</td>\n      <td>NaN</td>\n      <td>NaN</td>\n      <td>NaN</td>\n      <td>NaN</td>\n      <td>NaN</td>\n      <td>NaT</td>\n      <td>NaT</td>\n    </tr>\n    <tr>\n      <th>197</th>\n      <td>198</td>\n      <td>1505179</td>\n      <td>NaN</td>\n      <td>NaN</td>\n      <td>0</td>\n      <td>严安荣</td>\n      <td>2021-03-08 18:53:00</td>\n      <td>18</td>\n      <td>2</td>\n      <td>NaN</td>\n      <td>...</td>\n      <td>NaN</td>\n      <td>NaN</td>\n      <td>NaN</td>\n      <td>NaN</td>\n      <td>NaN</td>\n      <td>NaN</td>\n      <td>NaN</td>\n      <td>NaN</td>\n      <td>NaT</td>\n      <td>NaT</td>\n    </tr>\n    <tr>\n      <th>198</th>\n      <td>199</td>\n      <td>1496280</td>\n      <td>NaN</td>\n      <td>NaN</td>\n      <td>0</td>\n      <td>刘琼丽</td>\n      <td>2021-01-25 19:22:00</td>\n      <td>22</td>\n      <td>2</td>\n      <td>NaN</td>\n      <td>...</td>\n      <td>NaN</td>\n      <td>NaN</td>\n      <td>NaN</td>\n      <td>NaN</td>\n      <td>NaN</td>\n      <td>NaN</td>\n      <td>NaN</td>\n      <td>NaN</td>\n      <td>NaT</td>\n      <td>NaT</td>\n    </tr>\n    <tr>\n      <th>199</th>\n      <td>200</td>\n      <td>1608634</td>\n      <td>NaN</td>\n      <td>NaN</td>\n      <td>0</td>\n      <td>刘加明</td>\n      <td>2021-11-29 11:48:00</td>\n      <td>22</td>\n      <td>6</td>\n      <td>NaN</td>\n      <td>...</td>\n      <td>NaN</td>\n      <td>NaN</td>\n      <td>NaN</td>\n      <td>NaN</td>\n      <td>NaN</td>\n      <td>NaN</td>\n      <td>NaN</td>\n      <td>NaN</td>\n      <td>NaT</td>\n      <td>NaT</td>\n    </tr>\n  </tbody>\n</table>\n<p>200 rows × 103 columns</p>\n</div>"
     },
     "execution_count": 5,
     "metadata": {},
     "output_type": "execute_result"
    }
   ],
   "source": [
    "df1 = pd.read_excel(r'C:\\Users\\Administrator\\Desktop\\可利霉素分析结果\\基线情况\\1008基线情况汇总_v2填充数据.xlsx')\n",
    "df1"
   ],
   "metadata": {
    "collapsed": false,
    "ExecuteTime": {
     "end_time": "2024-10-12T07:29:26.841241Z",
     "start_time": "2024-10-12T07:29:26.704186100Z"
    }
   },
   "id": "8a7e1088cebf9c18"
  },
  {
   "cell_type": "code",
   "execution_count": 21,
   "outputs": [
    {
     "data": {
      "text/plain": "             患者编号             住院号  \\\n新住院号                                \n1898997  17403435  ZY010001898997   \n1888013  17458096  ZY010001888013   \n1556747  17468647  ZY010001556747   \n1522846  17469686  ZY010001522846   \n1957933  17474288  ZY010001957933   \n...           ...             ...   \n1978957  24880489  ZY010001978957   \n1979824  24883323  ZY010001979824   \n1981174  24886748  ZY010001981174   \n1982149  24889558  ZY010001982149   \n1983645  24894420  ZY010001983645   \n\n                                                      转入诊断  \\\n新住院号                                                         \n1898997                                                NaN   \n1888013                                                NaN   \n1556747                                                NaN   \n1522846  肝脏脓肿脓毒症呼吸衰竭冠心病2型糖尿病伴血糖控制不佳高血压病3级脑梗死个人史高脂血症下肢动脉...   \n1957933  胰腺恶性肿瘤伴肝转移，腹腔感染，高血钾,胰腺恶性肿瘤伴肝转移，腹腔感染，高血钾,胰腺恶性肿瘤...   \n...                                                    ...   \n1978957                                                NaN   \n1979824                                                NaN   \n1981174                                                NaN   \n1982149                                                NaN   \n1983645                                                NaN   \n\n                                                      转出诊断  \\\n新住院号                                                         \n1898997                                                NaN   \n1888013                                                NaN   \n1556747                                                NaN   \n1522846  肝脏脓肿脓毒症呼吸衰竭冠心病2型糖尿病伴血糖控制不佳高血压病3级脑梗死个人史高脂血症下肢动脉...   \n1957933  1.消化道出血2.胆道出血3.失血性休克4.腹腔感染5.胰腺恶性肿瘤伴肝转移6.代谢性酸中毒...   \n...                                                    ...   \n1978957                                                NaN   \n1979824                                                NaN   \n1981174                                                NaN   \n1982149                                                NaN   \n1983645                                                NaN   \n\n                                                    首次病程诊断  \n新住院号                                                        \n1898997                脓毒血症；梗阻性黄疸；乙状结肠癌癌伴肝、腹膜转移；肠造口状态；腹腔积液  \n1888013  胃肿瘤伴多发转移，坠积性肺炎，胸腔积液，腹盆腔积液，感染性休克，慢性肾功能不全急性加重，2型...  \n1556747     昏迷待查：安定中毒？脓毒血症？肺部感染转移性肝肿瘤直肠恶性肿瘤术后梗阻性黄疸胆管置管引流状态  \n1522846  发热原因待查：肺部感染？泌尿道感染？消化道感染？肝脏低密度肿块待查：肝脓肿？肝囊肿？肿瘤？冠...  \n1957933  胰腺恶性肿瘤粘液腺癌肝转移急性胰腺炎梗阻性黄疸,胰腺恶性肿瘤粘液腺癌肝转移急性胰腺炎梗阻性黄...  \n...                                                    ...  \n1978957                        急性黄疸型肝炎急性胆囊炎脓毒血症2型糖尿病脑梗死个人史  \n1979824                                          脓毒血症2型糖尿病  \n1981174  1.发热：脓毒血症？2.肠梗阻；3.低钾血症；4.2型糖尿病；5.应激性胃溃疡；6.上消化道...  \n1982149  感染性休克肺部感染肠源性感染多脏器功能衰竭急性心力衰竭急性肾功能不全急性呼吸衰竭（I型呼吸衰...  \n1983645                                    脓毒性休克重症肺炎I型呼吸衰竭  \n\n[5043 rows x 5 columns]",
      "text/html": "<div>\n<style scoped>\n    .dataframe tbody tr th:only-of-type {\n        vertical-align: middle;\n    }\n\n    .dataframe tbody tr th {\n        vertical-align: top;\n    }\n\n    .dataframe thead th {\n        text-align: right;\n    }\n</style>\n<table border=\"1\" class=\"dataframe\">\n  <thead>\n    <tr style=\"text-align: right;\">\n      <th></th>\n      <th>患者编号</th>\n      <th>住院号</th>\n      <th>转入诊断</th>\n      <th>转出诊断</th>\n      <th>首次病程诊断</th>\n    </tr>\n    <tr>\n      <th>新住院号</th>\n      <th></th>\n      <th></th>\n      <th></th>\n      <th></th>\n      <th></th>\n    </tr>\n  </thead>\n  <tbody>\n    <tr>\n      <th>1898997</th>\n      <td>17403435</td>\n      <td>ZY010001898997</td>\n      <td>NaN</td>\n      <td>NaN</td>\n      <td>脓毒血症；梗阻性黄疸；乙状结肠癌癌伴肝、腹膜转移；肠造口状态；腹腔积液</td>\n    </tr>\n    <tr>\n      <th>1888013</th>\n      <td>17458096</td>\n      <td>ZY010001888013</td>\n      <td>NaN</td>\n      <td>NaN</td>\n      <td>胃肿瘤伴多发转移，坠积性肺炎，胸腔积液，腹盆腔积液，感染性休克，慢性肾功能不全急性加重，2型...</td>\n    </tr>\n    <tr>\n      <th>1556747</th>\n      <td>17468647</td>\n      <td>ZY010001556747</td>\n      <td>NaN</td>\n      <td>NaN</td>\n      <td>昏迷待查：安定中毒？脓毒血症？肺部感染转移性肝肿瘤直肠恶性肿瘤术后梗阻性黄疸胆管置管引流状态</td>\n    </tr>\n    <tr>\n      <th>1522846</th>\n      <td>17469686</td>\n      <td>ZY010001522846</td>\n      <td>肝脏脓肿脓毒症呼吸衰竭冠心病2型糖尿病伴血糖控制不佳高血压病3级脑梗死个人史高脂血症下肢动脉...</td>\n      <td>肝脏脓肿脓毒症呼吸衰竭冠心病2型糖尿病伴血糖控制不佳高血压病3级脑梗死个人史高脂血症下肢动脉...</td>\n      <td>发热原因待查：肺部感染？泌尿道感染？消化道感染？肝脏低密度肿块待查：肝脓肿？肝囊肿？肿瘤？冠...</td>\n    </tr>\n    <tr>\n      <th>1957933</th>\n      <td>17474288</td>\n      <td>ZY010001957933</td>\n      <td>胰腺恶性肿瘤伴肝转移，腹腔感染，高血钾,胰腺恶性肿瘤伴肝转移，腹腔感染，高血钾,胰腺恶性肿瘤...</td>\n      <td>1.消化道出血2.胆道出血3.失血性休克4.腹腔感染5.胰腺恶性肿瘤伴肝转移6.代谢性酸中毒...</td>\n      <td>胰腺恶性肿瘤粘液腺癌肝转移急性胰腺炎梗阻性黄疸,胰腺恶性肿瘤粘液腺癌肝转移急性胰腺炎梗阻性黄...</td>\n    </tr>\n    <tr>\n      <th>...</th>\n      <td>...</td>\n      <td>...</td>\n      <td>...</td>\n      <td>...</td>\n      <td>...</td>\n    </tr>\n    <tr>\n      <th>1978957</th>\n      <td>24880489</td>\n      <td>ZY010001978957</td>\n      <td>NaN</td>\n      <td>NaN</td>\n      <td>急性黄疸型肝炎急性胆囊炎脓毒血症2型糖尿病脑梗死个人史</td>\n    </tr>\n    <tr>\n      <th>1979824</th>\n      <td>24883323</td>\n      <td>ZY010001979824</td>\n      <td>NaN</td>\n      <td>NaN</td>\n      <td>脓毒血症2型糖尿病</td>\n    </tr>\n    <tr>\n      <th>1981174</th>\n      <td>24886748</td>\n      <td>ZY010001981174</td>\n      <td>NaN</td>\n      <td>NaN</td>\n      <td>1.发热：脓毒血症？2.肠梗阻；3.低钾血症；4.2型糖尿病；5.应激性胃溃疡；6.上消化道...</td>\n    </tr>\n    <tr>\n      <th>1982149</th>\n      <td>24889558</td>\n      <td>ZY010001982149</td>\n      <td>NaN</td>\n      <td>NaN</td>\n      <td>感染性休克肺部感染肠源性感染多脏器功能衰竭急性心力衰竭急性肾功能不全急性呼吸衰竭（I型呼吸衰...</td>\n    </tr>\n    <tr>\n      <th>1983645</th>\n      <td>24894420</td>\n      <td>ZY010001983645</td>\n      <td>NaN</td>\n      <td>NaN</td>\n      <td>脓毒性休克重症肺炎I型呼吸衰竭</td>\n    </tr>\n  </tbody>\n</table>\n<p>5043 rows × 5 columns</p>\n</div>"
     },
     "execution_count": 21,
     "metadata": {},
     "output_type": "execute_result"
    }
   ],
   "source": [
    "df"
   ],
   "metadata": {
    "collapsed": false,
    "ExecuteTime": {
     "end_time": "2024-10-08T14:06:23.940819600Z",
     "start_time": "2024-10-08T14:06:23.907313900Z"
    }
   },
   "id": "67f4fe3d0d0b74b1"
  },
  {
   "cell_type": "code",
   "execution_count": 3,
   "outputs": [
    {
     "name": "stdout",
     "output_type": "stream",
     "text": [
      "55\n"
     ]
    },
    {
     "name": "stderr",
     "output_type": "stream",
     "text": [
      "C:\\Users\\Administrator\\AppData\\Local\\Temp\\ipykernel_27240\\1120311828.py:19: FutureWarning: Setting an item of incompatible dtype is deprecated and will raise an error in a future version of pandas. Value '' has dtype incompatible with float64, please explicitly cast to a compatible dtype first.\n",
      "  df1.loc[i, '患者编号'] = pid\n"
     ]
    },
    {
     "data": {
      "text/plain": "      编号      住院号  可利霉素时间        患者编号  分组   姓名           入院或入ICU时间  APACHEII  \\\n0      1  1765586    24.0  18691680.0   1  陈忠德 2022-12-18 00:00:00        36   \n1      2  1598484     7.0  19781643.0   1  万厚贤 2021-09-16 00:00:00        20   \n2      3  1825009     9.0  23366094.0   1  马益宏 2023-06-01 00:00:00        26   \n3      4  1594955    16.0  22841687.0   1   玉梅 2021-10-12 00:00:00        12   \n4      5  1493306     4.0  22362676.0   1  鲁爱英 2021-01-17 00:00:00        19   \n..   ...      ...     ...         ...  ..  ...                 ...       ...   \n195  196  1696039     NaN    23510787   0  刘丽萍 2022-06-30 22:57:00        12   \n196  197  1610735     NaN    21171213   0  丁建舟 2021-11-25 16:56:00        25   \n197  198  1505179     NaN               0  严安荣 2021-03-08 18:53:00        18   \n198  199  1496280     NaN               0  刘琼丽 2021-01-25 19:22:00        22   \n199  200  1608634     NaN               0  刘加明 2021-11-29 11:48:00        22   \n\n     SOFA     身高  ...  糖肽类  恶唑烷酮类  甲硝唑  四环素  氯霉素  环酯肽类  粘菌素   可利霉素开始时间  \\\n0      10  165.0  ...  0.0    1.0  0.0  1.0  0.0   0.0  1.0 2022-12-19   \n1      11  173.0  ...  1.0    0.0  0.0  0.0  0.0   1.0  0.0 2021-10-16   \n2      10  175.0  ...  0.0    0.0  0.0  0.0  0.0   0.0  1.0 2023-06-05   \n3       2  159.0  ...  0.0    0.0  0.0  0.0  0.0   0.0  0.0 2021-10-28   \n4       7  158.0  ...  1.0    0.0  0.0  0.0  0.0   0.0  1.0 2021-03-05   \n..    ...    ...  ...  ...    ...  ...  ...  ...   ...  ...        ...   \n195     1    NaN  ...  NaN    NaN  NaN  NaN  NaN   NaN  NaN        NaT   \n196     9    NaN  ...  NaN    NaN  NaN  NaN  NaN   NaN  NaN        NaT   \n197     2    NaN  ...  NaN    NaN  NaN  NaN  NaN   NaN  NaN        NaT   \n198     2    NaN  ...  NaN    NaN  NaN  NaN  NaN   NaN  NaN        NaT   \n199     6    NaN  ...  NaN    NaN  NaN  NaN  NaN   NaN  NaN        NaT   \n\n      结束可利霉素时间                                             首次病程诊断  \n0   2023-01-11                                                     \n1   2021-10-22                                                     \n2   2023-06-13                                                     \n3   2021-11-12                                                     \n4   2021-03-08                                                     \n..         ...                                                ...  \n195        NaT  直肠肛管恶性肿瘤鳞癌cT4N2M1放化疗后肠炎：放射性肠炎？免疫性肠炎？营养不良,直肠肛管恶...  \n196        NaT  脑梗死后遗症大脑动脉的闭塞或狭窄引起的脑梗死左侧基底节区-侧脑室体部旁大面积脑梗塞2型糖尿病...  \n197        NaT                                                     \n198        NaT                                                     \n199        NaT                                                     \n\n[200 rows x 104 columns]",
      "text/html": "<div>\n<style scoped>\n    .dataframe tbody tr th:only-of-type {\n        vertical-align: middle;\n    }\n\n    .dataframe tbody tr th {\n        vertical-align: top;\n    }\n\n    .dataframe thead th {\n        text-align: right;\n    }\n</style>\n<table border=\"1\" class=\"dataframe\">\n  <thead>\n    <tr style=\"text-align: right;\">\n      <th></th>\n      <th>编号</th>\n      <th>住院号</th>\n      <th>可利霉素时间</th>\n      <th>患者编号</th>\n      <th>分组</th>\n      <th>姓名</th>\n      <th>入院或入ICU时间</th>\n      <th>APACHEII</th>\n      <th>SOFA</th>\n      <th>身高</th>\n      <th>...</th>\n      <th>糖肽类</th>\n      <th>恶唑烷酮类</th>\n      <th>甲硝唑</th>\n      <th>四环素</th>\n      <th>氯霉素</th>\n      <th>环酯肽类</th>\n      <th>粘菌素</th>\n      <th>可利霉素开始时间</th>\n      <th>结束可利霉素时间</th>\n      <th>首次病程诊断</th>\n    </tr>\n  </thead>\n  <tbody>\n    <tr>\n      <th>0</th>\n      <td>1</td>\n      <td>1765586</td>\n      <td>24.0</td>\n      <td>18691680.0</td>\n      <td>1</td>\n      <td>陈忠德</td>\n      <td>2022-12-18 00:00:00</td>\n      <td>36</td>\n      <td>10</td>\n      <td>165.0</td>\n      <td>...</td>\n      <td>0.0</td>\n      <td>1.0</td>\n      <td>0.0</td>\n      <td>1.0</td>\n      <td>0.0</td>\n      <td>0.0</td>\n      <td>1.0</td>\n      <td>2022-12-19</td>\n      <td>2023-01-11</td>\n      <td></td>\n    </tr>\n    <tr>\n      <th>1</th>\n      <td>2</td>\n      <td>1598484</td>\n      <td>7.0</td>\n      <td>19781643.0</td>\n      <td>1</td>\n      <td>万厚贤</td>\n      <td>2021-09-16 00:00:00</td>\n      <td>20</td>\n      <td>11</td>\n      <td>173.0</td>\n      <td>...</td>\n      <td>1.0</td>\n      <td>0.0</td>\n      <td>0.0</td>\n      <td>0.0</td>\n      <td>0.0</td>\n      <td>1.0</td>\n      <td>0.0</td>\n      <td>2021-10-16</td>\n      <td>2021-10-22</td>\n      <td></td>\n    </tr>\n    <tr>\n      <th>2</th>\n      <td>3</td>\n      <td>1825009</td>\n      <td>9.0</td>\n      <td>23366094.0</td>\n      <td>1</td>\n      <td>马益宏</td>\n      <td>2023-06-01 00:00:00</td>\n      <td>26</td>\n      <td>10</td>\n      <td>175.0</td>\n      <td>...</td>\n      <td>0.0</td>\n      <td>0.0</td>\n      <td>0.0</td>\n      <td>0.0</td>\n      <td>0.0</td>\n      <td>0.0</td>\n      <td>1.0</td>\n      <td>2023-06-05</td>\n      <td>2023-06-13</td>\n      <td></td>\n    </tr>\n    <tr>\n      <th>3</th>\n      <td>4</td>\n      <td>1594955</td>\n      <td>16.0</td>\n      <td>22841687.0</td>\n      <td>1</td>\n      <td>玉梅</td>\n      <td>2021-10-12 00:00:00</td>\n      <td>12</td>\n      <td>2</td>\n      <td>159.0</td>\n      <td>...</td>\n      <td>0.0</td>\n      <td>0.0</td>\n      <td>0.0</td>\n      <td>0.0</td>\n      <td>0.0</td>\n      <td>0.0</td>\n      <td>0.0</td>\n      <td>2021-10-28</td>\n      <td>2021-11-12</td>\n      <td></td>\n    </tr>\n    <tr>\n      <th>4</th>\n      <td>5</td>\n      <td>1493306</td>\n      <td>4.0</td>\n      <td>22362676.0</td>\n      <td>1</td>\n      <td>鲁爱英</td>\n      <td>2021-01-17 00:00:00</td>\n      <td>19</td>\n      <td>7</td>\n      <td>158.0</td>\n      <td>...</td>\n      <td>1.0</td>\n      <td>0.0</td>\n      <td>0.0</td>\n      <td>0.0</td>\n      <td>0.0</td>\n      <td>0.0</td>\n      <td>1.0</td>\n      <td>2021-03-05</td>\n      <td>2021-03-08</td>\n      <td></td>\n    </tr>\n    <tr>\n      <th>...</th>\n      <td>...</td>\n      <td>...</td>\n      <td>...</td>\n      <td>...</td>\n      <td>...</td>\n      <td>...</td>\n      <td>...</td>\n      <td>...</td>\n      <td>...</td>\n      <td>...</td>\n      <td>...</td>\n      <td>...</td>\n      <td>...</td>\n      <td>...</td>\n      <td>...</td>\n      <td>...</td>\n      <td>...</td>\n      <td>...</td>\n      <td>...</td>\n      <td>...</td>\n      <td>...</td>\n    </tr>\n    <tr>\n      <th>195</th>\n      <td>196</td>\n      <td>1696039</td>\n      <td>NaN</td>\n      <td>23510787</td>\n      <td>0</td>\n      <td>刘丽萍</td>\n      <td>2022-06-30 22:57:00</td>\n      <td>12</td>\n      <td>1</td>\n      <td>NaN</td>\n      <td>...</td>\n      <td>NaN</td>\n      <td>NaN</td>\n      <td>NaN</td>\n      <td>NaN</td>\n      <td>NaN</td>\n      <td>NaN</td>\n      <td>NaN</td>\n      <td>NaT</td>\n      <td>NaT</td>\n      <td>直肠肛管恶性肿瘤鳞癌cT4N2M1放化疗后肠炎：放射性肠炎？免疫性肠炎？营养不良,直肠肛管恶...</td>\n    </tr>\n    <tr>\n      <th>196</th>\n      <td>197</td>\n      <td>1610735</td>\n      <td>NaN</td>\n      <td>21171213</td>\n      <td>0</td>\n      <td>丁建舟</td>\n      <td>2021-11-25 16:56:00</td>\n      <td>25</td>\n      <td>9</td>\n      <td>NaN</td>\n      <td>...</td>\n      <td>NaN</td>\n      <td>NaN</td>\n      <td>NaN</td>\n      <td>NaN</td>\n      <td>NaN</td>\n      <td>NaN</td>\n      <td>NaN</td>\n      <td>NaT</td>\n      <td>NaT</td>\n      <td>脑梗死后遗症大脑动脉的闭塞或狭窄引起的脑梗死左侧基底节区-侧脑室体部旁大面积脑梗塞2型糖尿病...</td>\n    </tr>\n    <tr>\n      <th>197</th>\n      <td>198</td>\n      <td>1505179</td>\n      <td>NaN</td>\n      <td></td>\n      <td>0</td>\n      <td>严安荣</td>\n      <td>2021-03-08 18:53:00</td>\n      <td>18</td>\n      <td>2</td>\n      <td>NaN</td>\n      <td>...</td>\n      <td>NaN</td>\n      <td>NaN</td>\n      <td>NaN</td>\n      <td>NaN</td>\n      <td>NaN</td>\n      <td>NaN</td>\n      <td>NaN</td>\n      <td>NaT</td>\n      <td>NaT</td>\n      <td></td>\n    </tr>\n    <tr>\n      <th>198</th>\n      <td>199</td>\n      <td>1496280</td>\n      <td>NaN</td>\n      <td></td>\n      <td>0</td>\n      <td>刘琼丽</td>\n      <td>2021-01-25 19:22:00</td>\n      <td>22</td>\n      <td>2</td>\n      <td>NaN</td>\n      <td>...</td>\n      <td>NaN</td>\n      <td>NaN</td>\n      <td>NaN</td>\n      <td>NaN</td>\n      <td>NaN</td>\n      <td>NaN</td>\n      <td>NaN</td>\n      <td>NaT</td>\n      <td>NaT</td>\n      <td></td>\n    </tr>\n    <tr>\n      <th>199</th>\n      <td>200</td>\n      <td>1608634</td>\n      <td>NaN</td>\n      <td></td>\n      <td>0</td>\n      <td>刘加明</td>\n      <td>2021-11-29 11:48:00</td>\n      <td>22</td>\n      <td>6</td>\n      <td>NaN</td>\n      <td>...</td>\n      <td>NaN</td>\n      <td>NaN</td>\n      <td>NaN</td>\n      <td>NaN</td>\n      <td>NaN</td>\n      <td>NaN</td>\n      <td>NaN</td>\n      <td>NaT</td>\n      <td>NaT</td>\n      <td></td>\n    </tr>\n  </tbody>\n</table>\n<p>200 rows × 104 columns</p>\n</div>"
     },
     "execution_count": 3,
     "metadata": {},
     "output_type": "execute_result"
    }
   ],
   "source": [
    "df1['首次病程诊断'] = ''\n",
    "df = pd.read_excel(r'V:\\huihui\\data\\icu数据提取-李一鸣\\表2.xlsx')\n",
    "df['新住院号'] = df['住院号'].str[-7:]\n",
    "df.set_index(['新住院号'], inplace=True)\n",
    "count = 0\n",
    "for i in range(100, 200):\n",
    "    uid = df1.loc[i, '住院号']\n",
    "    try:\n",
    "        diagnose = df.loc[str(uid), '首次病程诊断']\n",
    "    except KeyError:\n",
    "        count += 1\n",
    "        diagnose = ''\n",
    "    df1.loc[i, '首次病程诊断'] = diagnose\n",
    "    try:\n",
    "        pid = df.loc[str(uid), '患者编号']\n",
    "    except KeyError:\n",
    "        pid = ''\n",
    "    df1.loc[i, '首次病程诊断'] = diagnose\n",
    "    df1.loc[i, '患者编号'] = pid\n",
    "print(count)\n",
    "df1"
   ],
   "metadata": {
    "collapsed": false,
    "ExecuteTime": {
     "end_time": "2024-10-12T02:15:28.071864900Z",
     "start_time": "2024-10-12T02:15:27.317385800Z"
    }
   },
   "id": "b6951cef9f65ef1f"
  },
  {
   "cell_type": "code",
   "execution_count": null,
   "outputs": [],
   "source": [
    "df = pd.read_excel(r'V:\\huihui\\data\\icu数据提取-李一鸣\\表56.xlsx', index_col='患者编号')\n",
    "for i in range(100, 200):\n",
    "    uid = df1.loc[i, '住院号']\n",
    "    diagnose = df.loc[uid, '首次病程诊断']\n",
    "    df1.loc[i, '首次病程诊断'] = diagnose"
   ],
   "metadata": {
    "collapsed": false
   },
   "id": "9a6a8590a709a28c"
  }
 ],
 "metadata": {
  "kernelspec": {
   "display_name": "Python 3",
   "language": "python",
   "name": "python3"
  },
  "language_info": {
   "codemirror_mode": {
    "name": "ipython",
    "version": 2
   },
   "file_extension": ".py",
   "mimetype": "text/x-python",
   "name": "python",
   "nbconvert_exporter": "python",
   "pygments_lexer": "ipython2",
   "version": "2.7.6"
  }
 },
 "nbformat": 4,
 "nbformat_minor": 5
}
